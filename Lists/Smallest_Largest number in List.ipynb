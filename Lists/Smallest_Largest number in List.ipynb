{
 "cells": [
  {
   "cell_type": "markdown",
   "id": "59a707e3",
   "metadata": {},
   "source": [
    "#  Find Smallest_Largest number in a list"
   ]
  },
  {
   "cell_type": "code",
   "execution_count": 12,
   "id": "c2a8ee67",
   "metadata": {},
   "outputs": [
    {
     "name": "stdout",
     "output_type": "stream",
     "text": [
      "Smallest element is: 4\n",
      "Largest element is: 99\n"
     ]
    }
   ],
   "source": [
    "list1 = [10, 20, 4, 45, 99]\n",
    "list1.sort()\n",
    "print(\"Smallest element is:\", list1[0])\n",
    "print(\"Largest element is:\", list1[-1])"
   ]
  },
  {
   "cell_type": "code",
   "execution_count": 15,
   "id": "50c10ada",
   "metadata": {},
   "outputs": [
    {
     "name": "stdout",
     "output_type": "stream",
     "text": [
      "Largest element is: 100\n",
      "Smallest element is: 3\n"
     ]
    }
   ],
   "source": [
    "def myMax(lst):\n",
    "    max_val = lst[0]\n",
    "    for x in lst:\n",
    "        if x > max_val:\n",
    "            max_val = x\n",
    "    return max_val\n",
    "\n",
    "def myMin(lst):\n",
    "    min_val = lst[0]\n",
    "    for x in lst:\n",
    "        if x < min_val:\n",
    "            min_val = x\n",
    "    return min_val\n",
    "\n",
    "lst = [100, 99, 3, 45, 69]\n",
    "print(\"Largest element is:\", myMax(lst))\n",
    "print(\"Smallest element is:\", myMin(lst))"
   ]
  }
 ],
 "metadata": {
  "kernelspec": {
   "display_name": "Python 3",
   "language": "python",
   "name": "python3"
  },
  "language_info": {
   "codemirror_mode": {
    "name": "ipython",
    "version": 3
   },
   "file_extension": ".py",
   "mimetype": "text/x-python",
   "name": "python",
   "nbconvert_exporter": "python",
   "pygments_lexer": "ipython3",
   "version": "3.8.8"
  }
 },
 "nbformat": 4,
 "nbformat_minor": 5
}
