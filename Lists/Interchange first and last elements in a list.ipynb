{
 "cells": [
  {
   "cell_type": "markdown",
   "id": "ac504f5a",
   "metadata": {},
   "source": [
    "#  Interchange first and last elements in a list"
   ]
  },
  {
   "cell_type": "code",
   "execution_count": 2,
   "id": "cd1783bb",
   "metadata": {},
   "outputs": [
    {
     "name": "stdout",
     "output_type": "stream",
     "text": [
      "[24, 35, 9, 56, 12]\n"
     ]
    }
   ],
   "source": [
    "def swapList(list):\n",
    "    size = len(list)\n",
    "     \n",
    "    temp = list[0]\n",
    "    list[0] = list[size - 1]\n",
    "    list[size - 1] = temp\n",
    "     \n",
    "    return list\n",
    "\n",
    "list = [12, 35, 9, 56, 24]\n",
    "print(swapList(list))"
   ]
  }
 ],
 "metadata": {
  "kernelspec": {
   "display_name": "Python 3",
   "language": "python",
   "name": "python3"
  },
  "language_info": {
   "codemirror_mode": {
    "name": "ipython",
    "version": 3
   },
   "file_extension": ".py",
   "mimetype": "text/x-python",
   "name": "python",
   "nbconvert_exporter": "python",
   "pygments_lexer": "ipython3",
   "version": "3.8.8"
  }
 },
 "nbformat": 4,
 "nbformat_minor": 5
}
