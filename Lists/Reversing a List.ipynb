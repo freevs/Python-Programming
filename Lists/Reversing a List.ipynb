{
 "cells": [
  {
   "cell_type": "markdown",
   "id": "dd83b646",
   "metadata": {},
   "source": [
    "# Reversing a List"
   ]
  },
  {
   "cell_type": "markdown",
   "id": "59d49f1b",
   "metadata": {},
   "source": [
    "#### Two pointer approach"
   ]
  },
  {
   "cell_type": "code",
   "execution_count": 1,
   "id": "04cc1240",
   "metadata": {},
   "outputs": [
    {
     "name": "stdout",
     "output_type": "stream",
     "text": [
      "[7, 6, 5, 4, 3, 2, 1]\n"
     ]
    }
   ],
   "source": [
    "\n",
    "def reverse_list(arr):\n",
    "    left = 0\n",
    "    right = len(arr)-1\n",
    "    while (left < right):\n",
    "        # Swap\n",
    "        temp = arr[left]\n",
    "        arr[left] = arr[right]\n",
    "        arr[right] = temp\n",
    "        left += 1\n",
    "        right -= 1\n",
    " \n",
    "    return arr\n",
    " \n",
    "arr = [1, 2, 3, 4, 5, 6, 7]\n",
    "print(reverse_list(arr))"
   ]
  },
  {
   "cell_type": "markdown",
   "id": "fb285b5f",
   "metadata": {},
   "source": [
    "#### Using reverse() and reversed()"
   ]
  },
  {
   "cell_type": "code",
   "execution_count": 2,
   "id": "f1675a5e",
   "metadata": {},
   "outputs": [
    {
     "name": "stdout",
     "output_type": "stream",
     "text": [
      "Using reverse()  [15, 14, 13, 12, 11, 10]\n",
      "Using reversed()  [10, 11, 12, 13, 14, 15]\n"
     ]
    }
   ],
   "source": [
    "lst = [10, 11, 12, 13, 14, 15]\n",
    "lst.reverse()\n",
    "print(\"Using reverse() \", lst)\n",
    " \n",
    "print(\"Using reversed() \", list(reversed(lst)))"
   ]
  },
  {
   "cell_type": "markdown",
   "id": "7b68cd37",
   "metadata": {},
   "source": [
    "#### Reverse Array using the slicing"
   ]
  },
  {
   "cell_type": "code",
   "execution_count": 3,
   "id": "689207b7",
   "metadata": {},
   "outputs": [
    {
     "name": "stdout",
     "output_type": "stream",
     "text": [
      "[15, 14, 13, 12, 11, 10]\n"
     ]
    }
   ],
   "source": [
    "def Reverse(lst):\n",
    "   new_lst = lst[::-1]\n",
    "   return new_lst\n",
    " \n",
    " \n",
    "lst = [10, 11, 12, 13, 14, 15]\n",
    "print(Reverse(lst))"
   ]
  },
  {
   "cell_type": "markdown",
   "id": "58cf35d0",
   "metadata": {},
   "source": [
    "#### Reverse a list using the insert() function"
   ]
  },
  {
   "cell_type": "code",
   "execution_count": 5,
   "id": "971a83cb",
   "metadata": {},
   "outputs": [
    {
     "name": "stdout",
     "output_type": "stream",
     "text": [
      "[15, 14, 13, 12, 11, 10]\n"
     ]
    }
   ],
   "source": [
    "lst = [10, 11, 12, 13, 14, 15]\n",
    "# the above input can also be given as\n",
    "# lst=list(map(int,input().split()))\n",
    "l = []  # empty list\n",
    " \n",
    "# iterate to reverse the list\n",
    "for i in lst:\n",
    "    # reversing the list\n",
    "    l.insert(0, i)\n",
    "# printing result\n",
    "print(l)"
   ]
  },
  {
   "cell_type": "markdown",
   "id": "ce2ba11f",
   "metadata": {},
   "source": [
    "#### Reverse a list using list comprehension"
   ]
  },
  {
   "cell_type": "code",
   "execution_count": null,
   "id": "c9129bb0",
   "metadata": {},
   "outputs": [],
   "source": [
    "original_list = [10, 11, 12, 13, 14, 15]\n",
    "new_list = [original_list[len(original_list) - i]\n",
    "            for i in range(1, len(original_list)+1)]\n",
    "print(new_list)"
   ]
  }
 ],
 "metadata": {
  "kernelspec": {
   "display_name": "Python 3",
   "language": "python",
   "name": "python3"
  },
  "language_info": {
   "codemirror_mode": {
    "name": "ipython",
    "version": 3
   },
   "file_extension": ".py",
   "mimetype": "text/x-python",
   "name": "python",
   "nbconvert_exporter": "python",
   "pygments_lexer": "ipython3",
   "version": "3.8.8"
  }
 },
 "nbformat": 4,
 "nbformat_minor": 5
}
