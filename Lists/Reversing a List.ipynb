{
 "cells": [
  {
   "cell_type": "markdown",
   "id": "dd83b646",
   "metadata": {},
   "source": [
    "# Reversing a List"
   ]
  },
  {
   "cell_type": "markdown",
   "id": "59d49f1b",
   "metadata": {},
   "source": [
    "#### Two pointer approach"
   ]
  },
  {
   "cell_type": "code",
   "execution_count": 1,
   "id": "04cc1240",
   "metadata": {},
   "outputs": [
    {
     "name": "stdout",
     "output_type": "stream",
     "text": [
      "[7, 6, 5, 4, 3, 2, 1]\n"
     ]
    }
   ],
   "source": [
    "def reverse_list(arr):\n",
    "    left = 0\n",
    "    right = len(arr)-1\n",
    "    while (left < right):\n",
    "        # Swap\n",
    "        temp = arr[left]\n",
    "        arr[left] = arr[right]\n",
    "        arr[right] = temp\n",
    "        left += 1\n",
    "        right -= 1\n",
    " \n",
    "    return arr\n",
    " \n",
    "arr = [1, 2, 3, 4, 5, 6, 7]\n",
    "print(reverse_list(arr))"
   ]
  },
  {
   "cell_type": "markdown",
   "id": "7b68cd37",
   "metadata": {},
   "source": [
    "#### Reverse Array using the slicing"
   ]
  },
  {
   "cell_type": "code",
   "execution_count": 3,
   "id": "689207b7",
   "metadata": {},
   "outputs": [
    {
     "name": "stdout",
     "output_type": "stream",
     "text": [
      "[15, 14, 13, 12, 11, 10]\n"
     ]
    }
   ],
   "source": [
    "def Reverse(lst):\n",
    "   new_lst = lst[::-1]\n",
    "   return new_lst\n",
    " \n",
    " \n",
    "lst = [10, 11, 12, 13, 14, 15]\n",
    "print(Reverse(lst))"
   ]
  },
  {
   "cell_type": "markdown",
   "id": "ce2ba11f",
   "metadata": {},
   "source": [
    "#### Reverse a list using list comprehension"
   ]
  },
  {
   "cell_type": "code",
   "execution_count": 1,
   "id": "c9129bb0",
   "metadata": {},
   "outputs": [
    {
     "name": "stdout",
     "output_type": "stream",
     "text": [
      "[15, 14, 13, 12, 11, 10]\n"
     ]
    }
   ],
   "source": [
    "original_list = [10, 11, 12, 13, 14, 15]\n",
    "new_list = [original_list[len(original_list) - i]\n",
    "            for i in range(1, len(original_list)+1)]\n",
    "print(new_list)"
   ]
  }
 ],
 "metadata": {
  "kernelspec": {
   "display_name": "Python 3",
   "language": "python",
   "name": "python3"
  },
  "language_info": {
   "codemirror_mode": {
    "name": "ipython",
    "version": 3
   },
   "file_extension": ".py",
   "mimetype": "text/x-python",
   "name": "python",
   "nbconvert_exporter": "python",
   "pygments_lexer": "ipython3",
   "version": "3.8.8"
  }
 },
 "nbformat": 4,
 "nbformat_minor": 5
}
