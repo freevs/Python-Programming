{
 "cells": [
  {
   "cell_type": "markdown",
   "id": "9101e46d",
   "metadata": {},
   "source": [
    "# Multiply all numbers in the list"
   ]
  },
  {
   "cell_type": "code",
   "execution_count": 2,
   "id": "7e936e5c",
   "metadata": {},
   "outputs": [
    {
     "name": "stdout",
     "output_type": "stream",
     "text": [
      "6\n"
     ]
    }
   ],
   "source": [
    "def multiplyList(myList):\n",
    " \n",
    "    result = 1\n",
    "    for x in myList:\n",
    "        result = result * x\n",
    "    return result\n",
    " \n",
    "list1 = [1, 2, 3]\n",
    "print(multiplyList(list1))\n"
   ]
  }
 ],
 "metadata": {
  "kernelspec": {
   "display_name": "Python 3",
   "language": "python",
   "name": "python3"
  },
  "language_info": {
   "codemirror_mode": {
    "name": "ipython",
    "version": 3
   },
   "file_extension": ".py",
   "mimetype": "text/x-python",
   "name": "python",
   "nbconvert_exporter": "python",
   "pygments_lexer": "ipython3",
   "version": "3.8.8"
  }
 },
 "nbformat": 4,
 "nbformat_minor": 5
}
