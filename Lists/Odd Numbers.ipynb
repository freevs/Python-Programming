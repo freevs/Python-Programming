{
 "cells": [
  {
   "cell_type": "markdown",
   "id": "6d4995bc",
   "metadata": {},
   "source": [
    "# Print odd numbers in a List"
   ]
  },
  {
   "cell_type": "code",
   "execution_count": 1,
   "id": "9b648ec7",
   "metadata": {},
   "outputs": [
    {
     "name": "stdout",
     "output_type": "stream",
     "text": [
      "21 45 93 "
     ]
    }
   ],
   "source": [
    "list1 = [10, 21, 4, 45, 66, 93]\n",
    " \n",
    "# iterating each number in list\n",
    "for num in list1:\n",
    " \n",
    "    # checking condition\n",
    "    if num % 2 != 0:\n",
    "       print(num, end=\" \")"
   ]
  },
  {
   "cell_type": "markdown",
   "id": "a536e9b4",
   "metadata": {},
   "source": [
    "# Print all odd numbers in a range"
   ]
  },
  {
   "cell_type": "code",
   "execution_count": 2,
   "id": "28481582",
   "metadata": {},
   "outputs": [
    {
     "name": "stdout",
     "output_type": "stream",
     "text": [
      "5 7 9 11 13 15 17 19 "
     ]
    }
   ],
   "source": [
    "start, end = 4, 19\n",
    " \n",
    "# iterating each number in list\n",
    "for num in range(start, end + 1):\n",
    "     \n",
    "    # checking condition\n",
    "    if num % 2 != 0:\n",
    "        print(num, end = \" \")"
   ]
  }
 ],
 "metadata": {
  "kernelspec": {
   "display_name": "Python 3",
   "language": "python",
   "name": "python3"
  },
  "language_info": {
   "codemirror_mode": {
    "name": "ipython",
    "version": 3
   },
   "file_extension": ".py",
   "mimetype": "text/x-python",
   "name": "python",
   "nbconvert_exporter": "python",
   "pygments_lexer": "ipython3",
   "version": "3.8.8"
  }
 },
 "nbformat": 4,
 "nbformat_minor": 5
}
