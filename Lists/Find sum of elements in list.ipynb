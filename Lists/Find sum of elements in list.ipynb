{
 "cells": [
  {
   "cell_type": "markdown",
   "id": "4b8b2e5b",
   "metadata": {},
   "source": [
    "# Find sum of elements in list"
   ]
  },
  {
   "cell_type": "markdown",
   "id": "448be22b",
   "metadata": {},
   "source": [
    "#### for loop"
   ]
  },
  {
   "cell_type": "code",
   "execution_count": 8,
   "id": "4f44a008",
   "metadata": {},
   "outputs": [
    {
     "name": "stdout",
     "output_type": "stream",
     "text": [
      "74\n"
     ]
    }
   ],
   "source": [
    "def sum(list):\n",
    "    \n",
    "    total = 0\n",
    "    for i in range(0, len(list)):\n",
    "      total = total + list[i]\n",
    "    return total\n",
    "\n",
    "list = [11, 5, 17, 18, 23]\n",
    "print(sum(list))"
   ]
  },
  {
   "cell_type": "markdown",
   "id": "555ec053",
   "metadata": {},
   "source": [
    "#### while loop"
   ]
  },
  {
   "cell_type": "code",
   "execution_count": 2,
   "id": "171e210e",
   "metadata": {},
   "outputs": [
    {
     "name": "stdout",
     "output_type": "stream",
     "text": [
      "Sum of all elements in given list:  74\n"
     ]
    }
   ],
   "source": [
    "total = 0\n",
    "ele = 0\n",
    " \n",
    "list1 = [11, 5, 17, 18, 23] \n",
    "\n",
    "while(ele < len(list1)):\n",
    "    total = total + list1[ele]\n",
    "    ele += 1\n",
    "\n",
    "print(\"Sum of all elements in given list: \", total)"
   ]
  },
  {
   "cell_type": "markdown",
   "id": "9eef08be",
   "metadata": {},
   "source": [
    "#### Recursive way  "
   ]
  },
  {
   "cell_type": "code",
   "execution_count": 3,
   "id": "14707a03",
   "metadata": {},
   "outputs": [
    {
     "name": "stdout",
     "output_type": "stream",
     "text": [
      "Sum of all elements in given list:  74\n"
     ]
    }
   ],
   "source": [
    "# creating a list\n",
    "list1 = [11, 5, 17, 18, 23]\n",
    " \n",
    "# creating sum_list function\n",
    " \n",
    " \n",
    "def sumOfList(list, size):\n",
    "    if (size == 0):\n",
    "        return 0\n",
    "    else:\n",
    "        return list[size - 1] + sumOfList(list, size - 1)\n",
    " \n",
    " \n",
    "# Driver code\n",
    "total = sumOfList(list1, len(list1))\n",
    " \n",
    "print(\"Sum of all elements in given list: \", total)"
   ]
  }
 ],
 "metadata": {
  "kernelspec": {
   "display_name": "Python 3",
   "language": "python",
   "name": "python3"
  },
  "language_info": {
   "codemirror_mode": {
    "name": "ipython",
    "version": 3
   },
   "file_extension": ".py",
   "mimetype": "text/x-python",
   "name": "python",
   "nbconvert_exporter": "python",
   "pygments_lexer": "ipython3",
   "version": "3.8.8"
  }
 },
 "nbformat": 4,
 "nbformat_minor": 5
}
