{
 "cells": [
  {
   "cell_type": "markdown",
   "id": "34278fd3",
   "metadata": {},
   "source": [
    "# Adding two number provided by user input "
   ]
  },
  {
   "cell_type": "code",
   "execution_count": 7,
   "id": "bf3c592e",
   "metadata": {},
   "outputs": [
    {
     "name": "stdout",
     "output_type": "stream",
     "text": [
      "Enter the first no:3\n",
      "Enter the second no:4\n",
      "\n",
      "Sum of 3 and 4 is 7\n"
     ]
    }
   ],
   "source": [
    "num1 = int(input(\"Enter the first no:\"))\n",
    "num2 = int(input(\"Enter the second no:\"))\n",
    "\n",
    "sum=num1 + num2\n",
    "\n",
    "print(\"\\nSum of {0} and {1} is {2}\".format(num1, num2, sum))"
   ]
  },
  {
   "cell_type": "markdown",
   "id": "0848439a",
   "metadata": {},
   "source": [
    "# Adding two numbers using lambda"
   ]
  },
  {
   "cell_type": "code",
   "execution_count": 6,
   "id": "b202b23d",
   "metadata": {},
   "outputs": [
    {
     "name": "stdout",
     "output_type": "stream",
     "text": [
      "Enter the first no:1\n",
      "Enter the second no:2\n",
      "\n",
      "Sum of 1 and 2 is 3.\n"
     ]
    }
   ],
   "source": [
    "num1 = int(input(\"Enter the first no:\"))\n",
    "num2 = int(input(\"Enter the second no:\"))\n",
    "\n",
    "sum = lambda num1, num2 : num1 + num2\n",
    "\n",
    "print(\"\\nSum of {0} and {1} is {2}.\" .format(num1, num2, sum(num1, num2)))\n"
   ]
  }
 ],
 "metadata": {
  "kernelspec": {
   "display_name": "Python 3",
   "language": "python",
   "name": "python3"
  },
  "language_info": {
   "codemirror_mode": {
    "name": "ipython",
    "version": 3
   },
   "file_extension": ".py",
   "mimetype": "text/x-python",
   "name": "python",
   "nbconvert_exporter": "python",
   "pygments_lexer": "ipython3",
   "version": "3.8.8"
  }
 },
 "nbformat": 4,
 "nbformat_minor": 5
}
