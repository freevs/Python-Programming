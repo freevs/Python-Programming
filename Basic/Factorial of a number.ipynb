{
 "cells": [
  {
   "cell_type": "markdown",
   "id": "06bab272",
   "metadata": {},
   "source": [
    "# Iterative"
   ]
  },
  {
   "cell_type": "code",
   "execution_count": 11,
   "id": "a3745021",
   "metadata": {},
   "outputs": [
    {
     "data": {
      "text/plain": [
       "24"
      ]
     },
     "execution_count": 11,
     "metadata": {},
     "output_type": "execute_result"
    }
   ],
   "source": [
    "def factorial(n):\n",
    "    if n < 0:\n",
    "        return 0\n",
    "    elif n == 0 or n == 1:\n",
    "        return 1\n",
    "    else:\n",
    "        fact = 1\n",
    "        while(n > 1):\n",
    "            fact *= n\n",
    "            n -= 1\n",
    "        return fact\n",
    "\n",
    "factorial(4)\n"
   ]
  },
  {
   "cell_type": "markdown",
   "id": "fd63acf6",
   "metadata": {},
   "source": [
    "# Recursive/Ternary Operator"
   ]
  },
  {
   "cell_type": "code",
   "execution_count": 12,
   "id": "fad1ed93",
   "metadata": {},
   "outputs": [
    {
     "name": "stdout",
     "output_type": "stream",
     "text": [
      "Factorial of 5 is 120\n"
     ]
    }
   ],
   "source": [
    "def factorial(n):\n",
    " \n",
    "    # single line to find factorial\n",
    "    return 1 if (n==1 or n==0) else n * factorial(n - 1)\n",
    " \n",
    "\n",
    "num = 5\n",
    "print (\"Factorial of\",num,\"is\",factorial(num))\n",
    " "
   ]
  },
  {
   "cell_type": "markdown",
   "id": "749e2798",
   "metadata": {},
   "source": [
    "# By using In-built function"
   ]
  },
  {
   "cell_type": "code",
   "execution_count": 13,
   "id": "11f71fef",
   "metadata": {},
   "outputs": [
    {
     "name": "stdout",
     "output_type": "stream",
     "text": [
      "Factorial of 5 is 120\n"
     ]
    }
   ],
   "source": [
    "import math\n",
    " \n",
    "def factorial(n):\n",
    "    return(math.factorial(n))\n",
    " \n",
    " \n",
    "# Driver Code\n",
    "num = 5\n",
    "print(\"Factorial of\", num, \"is\",factorial(num))\n",
    " "
   ]
  }
 ],
 "metadata": {
  "kernelspec": {
   "display_name": "Python 3",
   "language": "python",
   "name": "python3"
  },
  "language_info": {
   "codemirror_mode": {
    "name": "ipython",
    "version": 3
   },
   "file_extension": ".py",
   "mimetype": "text/x-python",
   "name": "python",
   "nbconvert_exporter": "python",
   "pygments_lexer": "ipython3",
   "version": "3.8.8"
  }
 },
 "nbformat": 4,
 "nbformat_minor": 5
}
