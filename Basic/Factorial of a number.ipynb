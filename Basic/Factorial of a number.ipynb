{
 "cells": [
  {
   "cell_type": "markdown",
   "id": "06bab272",
   "metadata": {},
   "source": [
    "# Iterative"
   ]
  },
  {
   "cell_type": "code",
   "execution_count": 11,
   "id": "a3745021",
   "metadata": {},
   "outputs": [
    {
     "data": {
      "text/plain": [
       "24"
      ]
     },
     "execution_count": 11,
     "metadata": {},
     "output_type": "execute_result"
    }
   ],
   "source": [
    "def factorial(n):\n",
    "    if n < 0:\n",
    "        return 0\n",
    "    elif n == 0 or n == 1:\n",
    "        return 1\n",
    "    else:\n",
    "        fact = 1\n",
    "        while(n > 1):\n",
    "            fact *= n\n",
    "            n -= 1\n",
    "        return fact\n",
    "\n",
    "factorial(4)\n"
   ]
  },
  {
   "cell_type": "markdown",
   "id": "fd63acf6",
   "metadata": {},
   "source": [
    "# Recursive/Ternary Operator"
   ]
  },
  {
   "cell_type": "code",
   "execution_count": 12,
   "id": "fad1ed93",
   "metadata": {},
   "outputs": [
    {
     "name": "stdout",
     "output_type": "stream",
     "text": [
      "Factorial of 5 is 120\n"
     ]
    }
   ],
   "source": [
    "def factorial(n):\n",
    " \n",
    "    # single line to find factorial\n",
    "    return 1 if (n==1 or n==0) else n * factorial(n - 1)\n",
    " \n",
    "\n",
    "num = 5\n",
    "print (\"Factorial of\",num,\"is\",factorial(num))\n",
    " "
   ]
  },
  {
   "cell_type": "markdown",
   "id": "e0563e0f",
   "metadata": {},
   "source": [
    "### A positive integer is passed as an input parameter to the factorial function. So now whenever the factorial function is executed, the function multiplies the value of the input parameter and recursively calls itself while decrementing the parameter value by 1.\n",
    "\n",
    "### For Example - If factorial(5) is called, it will call factorial(4), factorial(3), factorial(2) and factorial(1). So it means the factorial function will keep calling itself by reducing value by one till it reaches 1."
   ]
  }
 ],
 "metadata": {
  "kernelspec": {
   "display_name": "Python 3",
   "language": "python",
   "name": "python3"
  },
  "language_info": {
   "codemirror_mode": {
    "name": "ipython",
    "version": 3
   },
   "file_extension": ".py",
   "mimetype": "text/x-python",
   "name": "python",
   "nbconvert_exporter": "python",
   "pygments_lexer": "ipython3",
   "version": "3.8.8"
  }
 },
 "nbformat": 4,
 "nbformat_minor": 5
}
