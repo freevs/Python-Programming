{
 "cells": [
  {
   "cell_type": "markdown",
   "id": "5f9afa65",
   "metadata": {},
   "source": [
    "# Print prime nos from 1 to N"
   ]
  },
  {
   "cell_type": "code",
   "execution_count": 10,
   "id": "c2dad9ca",
   "metadata": {},
   "outputs": [
    {
     "name": "stdout",
     "output_type": "stream",
     "text": [
      "2 3 5 7 11 13 17 19 23 29 31 37 41 43 47 53 59 61 67 71 73 79 83 89 97 "
     ]
    }
   ],
   "source": [
    "def isPrime(n):\n",
    "  if(n==1 or n==0):\n",
    "    return False\n",
    "   \n",
    "  for i in range(2,n):\n",
    "    if(n%i==0):\n",
    "      return False\n",
    "  return True\n",
    " \n",
    " \n",
    "N = 100;\n",
    "for i in range(1,N+1):\n",
    "  if(isPrime(i)):\n",
    "    print(i,end=\" \")"
   ]
  },
  {
   "cell_type": "code",
   "execution_count": 8,
   "id": "7124df2c",
   "metadata": {},
   "outputs": [
    {
     "name": "stdout",
     "output_type": "stream",
     "text": [
      "2\n",
      "3\n",
      "5\n"
     ]
    }
   ],
   "source": [
    "for n in range (1, 6):  \n",
    "    if n > 1:  \n",
    "        for i in range (2, n):  \n",
    "            if (n % i) == 0:  \n",
    "                break  \n",
    "        else:  \n",
    "              print (n)"
   ]
  },
  {
   "cell_type": "code",
   "execution_count": null,
   "id": "0584f8ba",
   "metadata": {},
   "outputs": [],
   "source": [
    "https://www.youtube.com/watch?v=KdiWcJscO_U"
   ]
  },
  {
   "cell_type": "markdown",
   "id": "a68fd45d",
   "metadata": {},
   "source": [
    "# Check whether the no is prime or not"
   ]
  },
  {
   "cell_type": "code",
   "execution_count": 11,
   "id": "588e5c7f",
   "metadata": {},
   "outputs": [
    {
     "name": "stdout",
     "output_type": "stream",
     "text": [
      "83 is prime no\n"
     ]
    }
   ],
   "source": [
    "n=83 \n",
    "if n > 1:  \n",
    "        for i in range (2, n):  \n",
    "            if (n % i) == 0:  \n",
    "                print(n,\"is not prime\")\n",
    "                break  \n",
    "        else:  \n",
    "              print (n, \"is prime no\")"
   ]
  }
 ],
 "metadata": {
  "kernelspec": {
   "display_name": "Python 3",
   "language": "python",
   "name": "python3"
  },
  "language_info": {
   "codemirror_mode": {
    "name": "ipython",
    "version": 3
   },
   "file_extension": ".py",
   "mimetype": "text/x-python",
   "name": "python",
   "nbconvert_exporter": "python",
   "pygments_lexer": "ipython3",
   "version": "3.8.8"
  }
 },
 "nbformat": 4,
 "nbformat_minor": 5
}
