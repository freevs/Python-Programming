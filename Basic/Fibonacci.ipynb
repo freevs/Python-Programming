{
 "cells": [
  {
   "cell_type": "markdown",
   "id": "43fbad01",
   "metadata": {},
   "source": [
    "# Nth Fibonacci Number"
   ]
  },
  {
   "cell_type": "markdown",
   "id": "ef61303a",
   "metadata": {},
   "source": [
    "### Recursion"
   ]
  },
  {
   "cell_type": "code",
   "execution_count": 14,
   "id": "59c6ad41",
   "metadata": {},
   "outputs": [
    {
     "name": "stdout",
     "output_type": "stream",
     "text": [
      "13\n"
     ]
    }
   ],
   "source": [
    "def recur(n):\n",
    "    if n==0:\n",
    "        return 0\n",
    "    elif (n==1):\n",
    "        return 1\n",
    "    else:\n",
    "        return recur(n-1)+recur(n-2)\n",
    " \n",
    "print(recur(7))"
   ]
  },
  {
   "cell_type": "markdown",
   "id": "c8f925ad",
   "metadata": {},
   "source": [
    "### Iterative"
   ]
  },
  {
   "cell_type": "code",
   "execution_count": 12,
   "id": "44db04f1",
   "metadata": {},
   "outputs": [
    {
     "data": {
      "text/plain": [
       "13"
      ]
     },
     "execution_count": 12,
     "metadata": {},
     "output_type": "execute_result"
    }
   ],
   "source": [
    "def fib(n):\n",
    "    a=0\n",
    "    b=1\n",
    "    \n",
    "    for i in range(1, n):\n",
    "        c=a+b\n",
    "        a=b\n",
    "        b=c\n",
    "        \n",
    "    return c\n",
    "\n",
    "fib(7)"
   ]
  },
  {
   "cell_type": "markdown",
   "id": "0c702e90",
   "metadata": {},
   "source": [
    "# Fibonacci Series"
   ]
  },
  {
   "cell_type": "code",
   "execution_count": 10,
   "id": "f3201448",
   "metadata": {},
   "outputs": [
    {
     "name": "stdout",
     "output_type": "stream",
     "text": [
      "0 1 1 2 3 5 8 "
     ]
    }
   ],
   "source": [
    "def fib(n):\n",
    "    a=0\n",
    "    b=1\n",
    "    \n",
    "    print(a, end=\" \")\n",
    "    print(b, end=\" \")\n",
    "    \n",
    "    for i in range(2, n):\n",
    "        c=a+b\n",
    "        a=b\n",
    "        b=c\n",
    "        \n",
    "        print(c, end=\" \")\n",
    "\n",
    "fib(7)"
   ]
  }
 ],
 "metadata": {
  "kernelspec": {
   "display_name": "Python 3",
   "language": "python",
   "name": "python3"
  },
  "language_info": {
   "codemirror_mode": {
    "name": "ipython",
    "version": 3
   },
   "file_extension": ".py",
   "mimetype": "text/x-python",
   "name": "python",
   "nbconvert_exporter": "python",
   "pygments_lexer": "ipython3",
   "version": "3.8.8"
  }
 },
 "nbformat": 4,
 "nbformat_minor": 5
}
