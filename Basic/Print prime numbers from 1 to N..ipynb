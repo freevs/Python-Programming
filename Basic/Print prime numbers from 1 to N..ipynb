{
 "cells": [
  {
   "cell_type": "code",
   "execution_count": 16,
   "id": "caf84c3d",
   "metadata": {},
   "outputs": [
    {
     "name": "stdout",
     "output_type": "stream",
     "text": [
      "2 3 5 "
     ]
    }
   ],
   "source": [
    "def isPrime(n):\n",
    "  if(n==1 or n==0):\n",
    "    return False\n",
    "   \n",
    "  for i in range(2,n):\n",
    "    if(n%i==0):\n",
    "      return False\n",
    "  return True\n",
    " \n",
    " \n",
    "N = 5;\n",
    "for i in range(1,N+1):\n",
    "  if(isPrime(i)):\n",
    "    print(i,end=\" \")"
   ]
  },
  {
   "cell_type": "code",
   "execution_count": 26,
   "id": "4f57562d",
   "metadata": {},
   "outputs": [
    {
     "name": "stdout",
     "output_type": "stream",
     "text": [
      "2\n",
      "3\n",
      "5\n"
     ]
    }
   ],
   "source": [
    "for n in range (1, 6):  \n",
    "    if n > 1:  \n",
    "        for i in range (2, n):  \n",
    "            if (n % i) == 0:  \n",
    "                break  \n",
    "        else:  \n",
    "            print (n)"
   ]
  },
  {
   "cell_type": "code",
   "execution_count": null,
   "id": "e25951f9",
   "metadata": {},
   "outputs": [],
   "source": []
  }
 ],
 "metadata": {
  "kernelspec": {
   "display_name": "Python 3",
   "language": "python",
   "name": "python3"
  },
  "language_info": {
   "codemirror_mode": {
    "name": "ipython",
    "version": 3
   },
   "file_extension": ".py",
   "mimetype": "text/x-python",
   "name": "python",
   "nbconvert_exporter": "python",
   "pygments_lexer": "ipython3",
   "version": "3.8.8"
  }
 },
 "nbformat": 4,
 "nbformat_minor": 5
}
