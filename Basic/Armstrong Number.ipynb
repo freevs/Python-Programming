{
 "cells": [
  {
   "cell_type": "markdown",
   "id": "bc3aef85",
   "metadata": {},
   "source": [
    "# Print Armstrong nos for given range"
   ]
  },
  {
   "cell_type": "code",
   "execution_count": null,
   "id": "ca8937fe",
   "metadata": {},
   "outputs": [],
   "source": [
    "for i in range(1, 101):\n",
    "    num=i\n",
    "    n=len(str(i))\n",
    "    result=0\n",
    "    while(i!=0):\n",
    "        digit=i%10\n",
    "        result=result+(digit**n)\n",
    "        i=i//10\n",
    "    if num==result:\n",
    "       print(num, end=\" \")"
   ]
  },
  {
   "cell_type": "code",
   "execution_count": null,
   "id": "6aa8872b",
   "metadata": {},
   "outputs": [],
   "source": [
    "for num in range(1, 100):  \n",
    "   sum = 0  \n",
    "   temp = num  \n",
    "   while temp > 0:  \n",
    "       digit = temp % 10  \n",
    "       sum += digit ** 3  \n",
    "       temp //= 10  \n",
    "       if num == sum:  \n",
    "            print(num)"
   ]
  },
  {
   "cell_type": "code",
   "execution_count": null,
   "id": "481ee699",
   "metadata": {},
   "outputs": [],
   "source": [
    "https://www.youtube.com/watch?v=fdxtmMOfdrc"
   ]
  }
 ],
 "metadata": {
  "kernelspec": {
   "display_name": "Python 3",
   "language": "python",
   "name": "python3"
  },
  "language_info": {
   "codemirror_mode": {
    "name": "ipython",
    "version": 3
   },
   "file_extension": ".py",
   "mimetype": "text/x-python",
   "name": "python",
   "nbconvert_exporter": "python",
   "pygments_lexer": "ipython3",
   "version": "3.8.8"
  }
 },
 "nbformat": 4,
 "nbformat_minor": 5
}
