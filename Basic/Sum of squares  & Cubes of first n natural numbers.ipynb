{
 "cells": [
  {
   "cell_type": "markdown",
   "id": "924a9df5",
   "metadata": {},
   "source": [
    "# Sum of squares"
   ]
  },
  {
   "cell_type": "code",
   "execution_count": 4,
   "id": "e7eed703",
   "metadata": {},
   "outputs": [
    {
     "name": "stdout",
     "output_type": "stream",
     "text": [
      "30\n"
     ]
    }
   ],
   "source": [
    "def squaresum(n) :\n",
    "  \n",
    "    sm = 0\n",
    "    for i in range(1, n+1) :\n",
    "        sm = sm + (i * i)\n",
    "      \n",
    "    return sm\n",
    "  \n",
    "\n",
    "u = 4\n",
    "print(squaresum(u))"
   ]
  },
  {
   "cell_type": "markdown",
   "id": "e0f2a780",
   "metadata": {},
   "source": [
    "# Sum of cubes"
   ]
  },
  {
   "cell_type": "code",
   "execution_count": 5,
   "id": "c6344cb4",
   "metadata": {},
   "outputs": [
    {
     "name": "stdout",
     "output_type": "stream",
     "text": [
      "100\n"
     ]
    }
   ],
   "source": [
    "def squaresum(n) :\n",
    "  \n",
    "    sm = 0\n",
    "    for i in range(1, n+1) :\n",
    "        sm = sm + (i * i*i)\n",
    "      \n",
    "    return sm\n",
    "  \n",
    "\n",
    "u = 4\n",
    "print(squaresum(u))"
   ]
  }
 ],
 "metadata": {
  "kernelspec": {
   "display_name": "Python 3",
   "language": "python",
   "name": "python3"
  },
  "language_info": {
   "codemirror_mode": {
    "name": "ipython",
    "version": 3
   },
   "file_extension": ".py",
   "mimetype": "text/x-python",
   "name": "python",
   "nbconvert_exporter": "python",
   "pygments_lexer": "ipython3",
   "version": "3.8.8"
  }
 },
 "nbformat": 4,
 "nbformat_minor": 5
}
